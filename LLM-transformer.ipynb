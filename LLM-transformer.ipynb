{
 "cells": [
  {
   "cell_type": "markdown",
   "metadata": {},
   "source": [
    "# Build LLM from scratch\n",
    "\n",
    "[Link to youtube tutorial](https://www.youtube.com/watch?v=UU1WVnMk4E8&list=WL&index=1&t=1695s)\n",
    "\n",
    "This machine learning project including:\n",
    "\n",
    "- encoder, decoder architecture\n",
    "- self-attention mechanism\n",
    "- multi-attention mechanism\n",
    "- Pytorch, tensor -> matrix manipulation"
   ]
  },
  {
   "cell_type": "code",
   "execution_count": 11,
   "metadata": {},
   "outputs": [
    {
     "name": "stdout",
     "output_type": "stream",
     "text": [
      "cpu\n"
     ]
    }
   ],
   "source": [
    "import torch\n",
    "device = 'cuda' if torch.cuda.is_available() else 'cpu'\n",
    "print(device)\n",
    "# hyper parameters for training\n",
    "block_size = 8\n",
    "batch_size = 4"
   ]
  },
  {
   "cell_type": "code",
   "execution_count": 12,
   "metadata": {},
   "outputs": [
    {
     "name": "stdout",
     "output_type": "stream",
     "text": [
      "['\\n', ' ', '!', '\"', '#', '$', '%', '&', \"'\", '(', ')', '*', '+', ',', '-', '.', '/', '0', '1', '2', '3', '4', '5', '6', '7', '8', '9', ':', ';', '<', '=', '>', '?', '@', 'A', 'B', 'C', 'D', 'E', 'F', 'G', 'H', 'I', 'J', 'K', 'L', 'M', 'N', 'O', 'P', 'Q', 'R', 'S', 'T', 'U', 'V', 'W', 'X', 'Y', 'Z', '[', '\\\\', ']', '^', '_', 'a', 'b', 'c', 'd', 'e', 'f', 'g', 'h', 'i', 'j', 'k', 'l', 'm', 'n', 'o', 'p', 'q', 'r', 's', 't', 'u', 'v', 'w', 'x', 'y', 'z', '{', '|', '}', '~', '\\x81', '£', '«', '°', '´', 'µ', '¼', '½', 'Ð', 'Ø', 'Þ', 'ð', 'þ', '˜', 'Γ', 'Δ', 'Θ', 'Π', 'Σ', 'Φ', 'Ω', 'α', 'β', 'γ', 'δ', 'ε', 'η', 'θ', 'κ', 'λ', 'μ', 'ν', 'π', 'ρ', 'σ', 'τ', 'ψ', 'ω', 'ϕ', '–', '—', '’', '“', '”', '•', '…', '′', '∂', '∅', '∑', '−', '∗', '∙', '√', '≠', '≤', '⋮', '■', '★', '⚀', '⚁', '⚂', '⚃', '⚄', '⚅', 'ﬁ', 'ﬂ', 'ﬃ']\n"
     ]
    }
   ],
   "source": [
    "with open('training_set/textbook.txt', 'r', encoding='utf-8') as f:\n",
    "    text = f.read()\n",
    "\n",
    "# get all the chars appears in the txt\n",
    "chars = sorted(set(text))\n",
    "print(chars)\n",
    "\n",
    "# print(text[:200])"
   ]
  },
  {
   "cell_type": "code",
   "execution_count": 13,
   "metadata": {},
   "outputs": [
    {
     "name": "stdout",
     "output_type": "stream",
     "text": [
      "tensor([52, 80, 82, 73, 78, 71, 69, 82,  1, 53, 69, 88, 84, 83,  1, 73, 78,  1,\n",
      "        52, 84, 65, 84, 73, 83, 84, 73, 67, 83,  0, 49, 82, 79, 66, 65, 66, 73,\n",
      "        76, 73, 84, 89,  1, 87, 73, 84, 72,  0, 34, 80, 80, 76, 73, 67, 65, 84,\n",
      "        73, 79, 78, 83,  1, 73, 78,  0, 38, 78, 71, 73, 78, 69, 69, 82, 73, 78,\n",
      "        71, 13,  0, 52, 67, 73, 69, 78, 67, 69, 13,  1, 65, 78, 68,  0, 53, 69,\n",
      "        67, 72, 78, 79, 76, 79, 71, 89, 46, 65])\n"
     ]
    }
   ],
   "source": [
    "# Implement tokenier -> encode & decode\n",
    "string_to_int = {ch:i for i,ch in enumerate(chars)}\n",
    "int_to_string = {i:ch for i,ch in enumerate(chars)}\n",
    "## Create a lambda function to map words and its token\n",
    "encode = lambda s: [string_to_int[c] for c in s]\n",
    "decode = lambda l: ''.join(int_to_string[i] for i in l)\n",
    "\n",
    "# print(encode('hello'))\n",
    "# print(decode(encode('hello')))\n",
    "\n",
    "# Use Tensor to encode data\n",
    "data = torch.tensor(encode(text), dtype=torch.long)\n",
    "print(data[:100])"
   ]
  },
  {
   "cell_type": "code",
   "execution_count": 14,
   "metadata": {},
   "outputs": [
    {
     "name": "stdout",
     "output_type": "stream",
     "text": [
      "tensor([52, 80, 82, 73, 78])\n"
     ]
    }
   ],
   "source": [
    "# Split training set and validation set\n",
    "## training set - for training obviously\n",
    "## validation set - make sure the training is correct\n",
    "\n",
    "n = int(0.8*len(data)) # take 80% as training set\n",
    "train_data = data[:n]\n",
    "validate_data = data[n:]\n",
    "print(train_data[:5])"
   ]
  },
  {
   "cell_type": "markdown",
   "metadata": {},
   "source": [
    "\n",
    "### why we need block?\n",
    "\n",
    "- **Training on Variable-Length Contexts:** Gen AI model needs to be able to predict the next token in a sequence, given a variable-length context. The `context` in this code starts from a single token and grows up to the full length of the block. This gives the model examples of different contexts it might encounter during inference.\n",
    "- **Next-Token Prediction:** The target is the token the model is supposed to predict given the `context`.\n",
    "- **Autoregressive Modeling:** In an autoregressive model, each token is predicted based on the previous tokens.\n"
   ]
  },
  {
   "cell_type": "code",
   "execution_count": 15,
   "metadata": {},
   "outputs": [
    {
     "name": "stdout",
     "output_type": "stream",
     "text": [
      "when input is tensor([52]) target is tensor(80)\n",
      "when input is tensor([52, 80]) target is tensor(82)\n",
      "when input is tensor([52, 80, 82]) target is tensor(73)\n",
      "when input is tensor([52, 80, 82, 73]) target is tensor(78)\n",
      "when input is tensor([52, 80, 82, 73, 78]) target is tensor(71)\n",
      "when input is tensor([52, 80, 82, 73, 78, 71]) target is tensor(69)\n",
      "when input is tensor([52, 80, 82, 73, 78, 71, 69]) target is tensor(82)\n",
      "when input is tensor([52, 80, 82, 73, 78, 71, 69, 82]) target is tensor(1)\n"
     ]
    }
   ],
   "source": [
    "\n",
    "\n",
    "# so x is for the normal dataset, y is for one position shift right mapping\n",
    "x = train_data[:block_size] # -> ['A', 'B', 'C', 'D', 'E', 'F', 'G', 'H']\n",
    "y = train_data[1:block_size+1] # -> \n",
    "\n",
    "for t in range(block_size):\n",
    "    context = x[:t+1]\n",
    "    target = y[t]\n",
    "    print(\"when input is\", context, \"target is\", target)"
   ]
  },
  {
   "cell_type": "code",
   "execution_count": null,
   "metadata": {},
   "outputs": [],
   "source": []
  }
 ],
 "metadata": {
  "kernelspec": {
   "display_name": "cuda",
   "language": "python",
   "name": "python3"
  },
  "language_info": {
   "codemirror_mode": {
    "name": "ipython",
    "version": 3
   },
   "file_extension": ".py",
   "mimetype": "text/x-python",
   "name": "python",
   "nbconvert_exporter": "python",
   "pygments_lexer": "ipython3",
   "version": "3.11.10"
  }
 },
 "nbformat": 4,
 "nbformat_minor": 2
}
